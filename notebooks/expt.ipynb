{
 "cells": [
  {
   "cell_type": "code",
   "execution_count": 1,
   "metadata": {},
   "outputs": [],
   "source": [
    "from typing import Callable, Optional, List\n",
    "import cv2\n",
    "import numpy as np\n",
    "import matplotlib.pyplot as plt"
   ]
  },
  {
   "cell_type": "markdown",
   "metadata": {},
   "source": [
    "## Canvas"
   ]
  },
  {
   "cell_type": "code",
   "execution_count": null,
   "metadata": {},
   "outputs": [],
   "source": []
  },
  {
   "cell_type": "code",
   "execution_count": 27,
   "metadata": {},
   "outputs": [
    {
     "data": {
      "image/png": "[encoded data removed]",
      "text/plain": [
       "<Figure size 500x500 with 1 Axes>"
      ]
     },
     "metadata": {},
     "output_type": "display_data"
    }
   ],
   "source": [
    "import matplotlib.pyplot as plt\n",
    "from matplotlib.patches import Circle\n",
    "\n",
    "class Canvas:\n",
    "    def __init__(\n",
    "        self,\n",
    "        background: List[int] = [1, 1, 1, 1],\n",
    "        dimensions: List=(10, 20),\n",
    "        shake_every: float=0,\n",
    "        dpi: int = 100,\n",
    "    ):\n",
    "        self.background = background\n",
    "        self.dimensions = dimensions\n",
    "        self.shake_every = shake_every\n",
    "        self._figure, self._axes = plt.subplots(figsize=dimensions, dpi=dpi, facecolor=background)\n",
    "        self.scatter_points([[0.5,0.5]], [background], [0])\n",
    "        self._frame = self.frame\n",
    "\n",
    "    def scatter_points(self, points: List[List[int]], colors: List[List[int]], sizes: List[int]):\n",
    "        for point,color,size in zip(points, colors, sizes):\n",
    "            self._axes.scatter(point[0], point[1], color=color, s=size)\n",
    "            self._axes.set_facecolor(self.background)\n",
    "            self._axes.set_aspect('equal')\n",
    "            \n",
    "        self._figure.canvas.draw()\n",
    "        \n",
    "    \n",
    "        \n",
    "    @property\n",
    "    def frame(self):\n",
    "        return self._figure.canvas.renderer.buffer_rgba()      \n",
    "        # return self._canvas.astype(np.uint8)\n",
    "canvas = Canvas(background=[1, 1, 1], dimensions=(10, 10), dpi=50)\n",
    "\n",
    "x_orig = 50\n",
    "y_orig = 50\n",
    "rad_orig = 500\n",
    "x_update = lambda x, t: x+t #np.random.randomnp.random.choice([-1, 1, 0]) #np.sin(t*x)/(x*t)\n",
    "y_update = lambda x,t: (x+t)*np.sin((x+t)*np.pi/180)#np.random.choice([-1, 1, 0]) #np.sin(t*x)/(x*t)\n",
    "rad_update = lambda x,t: max(300, x-t) *np.random.random()# np.random.choice([-1, 1, 0]) #np.sin(t)\n",
    "color_orig = [0.5, 0.5, 0.5, 0.8]\n",
    "color_update = lambda x,t: x-x/t\n",
    "\n",
    "pts = 500\n",
    "\n",
    "coord = [(x_update(x_orig, i), y_update(y_orig, i)) for i in range(1, pts)]\n",
    "rad = [rad_update(rad_orig, i) for i in range(1, pts)]\n",
    "color = [[color_update(c, i) for c in color_orig] for i in range(1, pts)]\n",
    "canvas.scatter_points(coord, color, rad)"
   ]
  },
  {
   "cell_type": "code",
   "execution_count": 21,
   "metadata": {},
   "outputs": [
    {
     "data": {
      "text/plain": [
       "0.9999996829318346"
      ]
     },
     "execution_count": 21,
     "metadata": {},
     "output_type": "execute_result"
    }
   ],
   "source": []
  },
  {
   "cell_type": "markdown",
   "metadata": {},
   "source": [
    "## Particle"
   ]
  },
  {
   "cell_type": "code",
   "execution_count": 44,
   "metadata": {},
   "outputs": [
    {
     "name": "stdout",
     "output_type": "stream",
     "text": [
      "Particle(x=100, y=100, z=1, x_update=<function Particle.<lambda> at 0x00000196E2730AF0>, y_update=<function Particle.<lambda> at 0x00000196E2730B80>, z_update=<function Particle.<lambda> at 0x00000196E2730C10>, lifespan=100, color=[200, 200, 200], color_update=[<function Particle.<lambda>.<locals>.<lambda> at 0x00000196E2730A60>], num_subparticles=2, subparticles_every=50, _time=0, _current_color=[200, 200, 200], _position=[100, 100, 2], is_alive=True)\n"
     ]
    }
   ],
   "source": [
    "from dataclasses import dataclass, field\n",
    "from typing import Callable, List, Optional\n",
    "import numpy as np\n",
    "\n",
    "@dataclass\n",
    "class Particle:\n",
    "    x: int = 100\n",
    "    y: int = 100\n",
    "    z: int = 1\n",
    "    x_update: Optional[Callable] = field(default=lambda x, t: x +t)\n",
    "    y_update: Optional[Callable] = field(default=lambda x, t: x * np.cos((x+t)*np.pi/180))\n",
    "    z_update: Optional[Callable] = field(default=lambda x, t: x-t/(x+2))\n",
    "    lifespan: int = 100\n",
    "    color: List[int] = field(default_factory=lambda: [200, 200, 200])\n",
    "    color_update: Optional[List[Callable]] = field(default_factory=lambda: [lambda x, t: min(max(0, x - t), 255)])\n",
    "    num_subparticles: Optional[int] = 2\n",
    "    subparticles_every: Optional[int] = 2\n",
    "    _time: int = 0\n",
    "    _current_color: List[int] = field(init=False, default_factory=lambda: [200, 200, 200])\n",
    "    _position: List[int] = field(init=False, default_factory=lambda: [100, 100, 2])\n",
    "    is_alive: bool = True\n",
    "\n",
    "    def update_position(self, time: float):\n",
    "        x = self.x if self.x_update is None else self.x_update(self.x, time)\n",
    "        y = self.y if self.y_update is None else self.y_update(self.y, time)\n",
    "        z = self.z if self.z_update is None else self.z_update(self.z, time)\n",
    "\n",
    "        return [x, y, z]\n",
    "\n",
    "    def update_color(self, time: float):\n",
    "        color = self.color\n",
    "        if self.color_update is None:\n",
    "            pass\n",
    "        elif len(self.color_update) == 1:\n",
    "            fxn = self.color_update[0]\n",
    "            color = [fxn(c, time) for c in color]\n",
    "        else:\n",
    "            color = [upd(c, time) for upd, c in zip(self.color_update, color)]\n",
    "        return [int(c) for c in color]\n",
    "\n",
    "    def update(self):\n",
    "        \n",
    "        sub_particles = []\n",
    "        if self._time <= self.lifespan:\n",
    "            self._position = self.update_position(self._time)\n",
    "            self._current_color = self.update_color(self._time)\n",
    "            sub_particles = [self]\n",
    "            \n",
    "            if self._time % self.subparticles_every == 0:\n",
    "                if self.num_subparticles is not None:\n",
    "                    for p in range(self.num_subparticles):\n",
    "                        p = Particle(\n",
    "                            self._position[0],\n",
    "                            self._position[1],\n",
    "                            self._position[2],\n",
    "                            self.x_update,\n",
    "                            self.y_update,\n",
    "                            self.z_update,\n",
    "                            self.lifespan,\n",
    "                            self._current_color,\n",
    "                            self.color_update,\n",
    "                            self.num_subparticles,\n",
    "                            self.subparticles_every / ,\n",
    "                        )\n",
    "                        sub_particles.append(p)\n",
    "        else:\n",
    "            self.is_alive = False\n",
    "        self._time += 1\n",
    "        return sub_particles\n",
    "\n",
    "# Example usage:\n",
    "particle = Particle()\n",
    "particle.update()\n",
    "print(particle)\n"
   ]
  },
  {
   "cell_type": "markdown",
   "metadata": {},
   "source": [
    "## Smoke"
   ]
  },
  {
   "cell_type": "code",
   "execution_count": 60,
   "metadata": {},
   "outputs": [],
   "source": [
    "class Smoke:\n",
    "    def __init__(\n",
    "        self,\n",
    "        origin: List = [(100, 100)],\n",
    "        lifespan: int = 1000,\n",
    "        start_particles: int = 10,\n",
    "    ):\n",
    "        self.origin = origin\n",
    "        self.lifespan = lifespan\n",
    "        self.start_particles = start_particles\n",
    "        self.particles: Optional[List[Particle]] = []\n",
    "        self._time = 0\n",
    "        self.is_alive = True\n",
    "        self._startup()\n",
    "    \n",
    "    @property\n",
    "    def num_particles(self):\n",
    "        return len(self.particles)\n",
    "\n",
    "    def _startup(self):\n",
    "        for sp in range(self.start_particles):\n",
    "            p = Particle(\n",
    "                x=self.origin[0][0]+np.random.randint(-10, 10),\n",
    "                y=self.origin[0][1]+np.random.randint(-10, 10),\n",
    "                z=20,\n",
    "                x_update=lambda x, t: x + np.random.choice([-1, 1, 0]),\n",
    "                y_update=lambda x, t: x*np.sin((t+x)*np.pi/180),\n",
    "                num_subparticles=np.random.randint(1,5),\n",
    "                subparticles_every=2)\n",
    "            self.particles.append(p)\n",
    "\n",
    "    def update(self):\n",
    "        \n",
    "        temp_particles = []\n",
    "        if self.lifespan >= self._time:\n",
    "            for particle in self.particles:\n",
    "                res = particle.update()\n",
    "                if len(res) > 0:\n",
    "                    temp_particles.extend(res)\n",
    "                if not particle.is_alive:\n",
    "                    del particle\n",
    "                else:\n",
    "                    temp_particles.append(particle)\n",
    "        else:\n",
    "            self.is_alive = False\n",
    "        self.particles = temp_particles\n",
    "        self._time += 1\n",
    "        return self.particles\n"
   ]
  },
  {
   "cell_type": "code",
   "execution_count": 61,
   "metadata": {},
   "outputs": [
    {
     "name": "stdout",
     "output_type": "stream",
     "text": [
      "10\n",
      "32\n",
      "32\n",
      "112\n",
      "112\n",
      "428\n",
      "428\n",
      "1768\n",
      "1768\n",
      "7772\n"
     ]
    }
   ],
   "source": [
    "smoke = Smoke()\n",
    "\n",
    "for i in range(5):\n",
    "    smoke.update()\n",
    "    print(smoke.num_particles)\n",
    "    smoke.update()\n",
    "    print(smoke.num_particles)"
   ]
  },
  {
   "cell_type": "code",
   "execution_count": null,
   "metadata": {},
   "outputs": [],
   "source": [
    "\n",
    "\n",
    "\n",
    "\n",
    "\n",
    "\n",
    "\n",
    "class PlayGround:\n",
    "    def __init__(\n",
    "        self, max_frames: int = 1000, smoke_origins: List = [(350, 500), (200, 200)]\n",
    "    ):\n",
    "        self.max_frames = max_frames\n",
    "        self.smoke_origins = smoke_origins\n",
    "        self.canvas = Canvas(\n",
    "            255 + np.zeros((700, 1000, 3), dtype=np.uint8),\n",
    "            dimensions=[400, 500],\n",
    "            shake_every=0,\n",
    "        )\n",
    "        self.smokes = [Smoke(orig) for orig in smoke_origins]\n",
    "        self.current_frame = 0\n",
    "        self.is_alive = True\n",
    "\n",
    "    @property\n",
    "    def frame(self):\n",
    "        return self.canvas.frame\n",
    "\n",
    "    def update_frame(self, smoke: Smoke):\n",
    "        for particle in smoke.particles:\n",
    "            x, y, z = [int(v) for v in particle._position]\n",
    "            color = tuple([int(c) for c in particle._current_color])\n",
    "            self.canvas.draw_circle((y, x), z, color)\n",
    "\n",
    "    def update(self):\n",
    "        temp_smokes = []\n",
    "        if self.current_frame <= self.max_frames:\n",
    "            for smoke in self.smokes:\n",
    "                if not smoke.is_alive:\n",
    "                    del smoke\n",
    "                else:\n",
    "                    temp_smokes.append(smoke)\n",
    "                smoke.update()\n",
    "                self.update_frame(smoke)\n",
    "        else:\n",
    "            self.is_alive = False\n",
    "        return self.frame\n",
    "\n",
    "\n",
    "pg = PlayGround()\n",
    "while True:\n",
    "    cv2.imshow(\"Canvas\", pg.frame.astype(np.uint8))\n",
    "    pg.update()\n",
    "    key = cv2.waitKey(20)\n",
    "\n",
    "    if key == ord(\"q\") or not pg.is_alive:\n",
    "        break\n",
    "\n",
    "cv2.destroyAllWindows()"
   ]
  },
  {
   "cell_type": "code",
   "execution_count": null,
   "metadata": {},
   "outputs": [],
   "source": []
  }
 ],
 "metadata": {
  "kernelspec": {
   "display_name": "base",
   "language": "python",
   "name": "python3"
  },
  "language_info": {
   "codemirror_mode": {
    "name": "ipython",
    "version": 3
   },
   "file_extension": ".py",
   "mimetype": "text/x-python",
   "name": "python",
   "nbconvert_exporter": "python",
   "pygments_lexer": "ipython3",
   "version": "3.8.5"
  }
 },
 "nbformat": 4,
 "nbformat_minor": 2
}
